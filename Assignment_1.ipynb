Basic Python
1. Split this string
s = "Hi there Sam!"
s.split()
['Hi', 'there', 'Sam!']
2. Use .format() to print the following string.
Output should be: The diameter of Earth is 12742 kilometers.
planet = "Earth"
diameter = 12742
print("The diameter of {} is {} kilometers".format(planet,diameter))
The diameter of Earth is 12742 kilometers
3. In this nest dictionary grab the word "hello"
d = {'k1':[1,2,3,{'tricky':['oh','man','inception',{'target':[1,2,3,'hello']}]}]}
d['k1'][3]["tricky"][3]['target'][3]
'hello'
Numpy
import numpy as np
4.1 Create an array of 10 zeros?
4.2 Create an array of 10 fives?
np.zeros(10)
array([0., 0., 0., 0., 0., 0., 0., 0., 0., 0.])
np.ones(10)
array([1., 1., 1., 1., 1., 1., 1., 1., 1., 1.])
5. Create an array of all the even integers from 20 to 35
np.arange(20,35)
array([20, 21, 22, 23, 24, 25, 26, 27, 28, 29, 30, 31, 32, 33, 34])
6. Create a 3x3 matrix with values ranging from 0 to 8
np.arange(9).reshape(3,3)
array([[0, 1, 2],
       [3, 4, 5],
       [6, 7, 8]])
7. Concatenate a and b
a = np.array([1, 2, 3]), b = np.array([4, 5, 6])
a = np.array([1,2,3])
b= np.array([4,5,6])
np.concatenate((a,b))
array([1, 2, 3, 4, 5, 6])
Pandas
8. Create a dataframe with 3 rows and 2 columns
import pandas as pd
a = np.arange(0,6).reshape(3,2)
pd.DataFrame(a)
0	1
0	0	1
1	2	3
2	4	5
9. Generate the series of dates from 1st Jan, 2023 to 10th Feb, 2023
10. Create 2D list to DataFrame
lists = [[1, 'aaa', 22], [2, 'bbb', 25], [3, 'ccc', 24]]

lists = [[1, 'aaa', 22], [2, 'bbb', 25], [3, 'ccc', 24]]
pd.DataFrame(lists)
0	1	2
0	1	aaa	22
1	2	bbb	25
2	3	ccc	24
